{
 "cells": [
  {
   "cell_type": "markdown",
   "id": "81edd971",
   "metadata": {},
   "source": [
    "suppose the IQ in certian population is normally distributed with mean 100 and standertd devation of 15 . \n",
    "A reasearcher wants to know if a new drug afftect IQ levels , so he recruits 20 patients to try it and records therir IQ .\n",
    "the following code show how to perfoerm Z test "
   ]
  },
  {
   "cell_type": "code",
   "execution_count": 1,
   "id": "aac31166",
   "metadata": {},
   "outputs": [],
   "source": [
    "from statsmodels.stats.weightstats import ztest as ztest\n"
   ]
  },
  {
   "cell_type": "code",
   "execution_count": 2,
   "id": "b811b908",
   "metadata": {},
   "outputs": [],
   "source": [
    "data =[88, 92, 94, 94, 96, 97,97,97,99,99,\n",
    "      105, 109, 109, 109, 110, 112, 112, 113, 114, 115]"
   ]
  },
  {
   "cell_type": "code",
   "execution_count": 4,
   "id": "8006b5db",
   "metadata": {},
   "outputs": [
    {
     "data": {
      "text/plain": [
       "(1.5976240527147705, 0.1101266701438426)"
      ]
     },
     "execution_count": 4,
     "metadata": {},
     "output_type": "execute_result"
    }
   ],
   "source": [
    "ztest(data,value=100)"
   ]
  },
  {
   "cell_type": "code",
   "execution_count": null,
   "id": "c8787a8f",
   "metadata": {},
   "outputs": [],
   "source": [
    "(z score,p values)"
   ]
  },
  {
   "cell_type": "code",
   "execution_count": null,
   "id": "5a256670",
   "metadata": {},
   "outputs": [],
   "source": [
    "0.11 > 0.05   wqe accpet null hypo"
   ]
  },
  {
   "cell_type": "code",
   "execution_count": null,
   "id": "f3aa7a5a",
   "metadata": {},
   "outputs": [],
   "source": [
    "reject null hypo condition"
   ]
  },
  {
   "cell_type": "markdown",
   "id": "50b3516d",
   "metadata": {},
   "source": [
    "p val < significan value  = reject null hypo"
   ]
  },
  {
   "cell_type": "code",
   "execution_count": null,
   "id": "da5c4530",
   "metadata": {},
   "outputs": [],
   "source": []
  },
  {
   "cell_type": "code",
   "execution_count": null,
   "id": "8e801899",
   "metadata": {},
   "outputs": [],
   "source": []
  },
  {
   "cell_type": "code",
   "execution_count": null,
   "id": "7fe0e911",
   "metadata": {},
   "outputs": [],
   "source": [
    "# t test "
   ]
  },
  {
   "cell_type": "code",
   "execution_count": 6,
   "id": "30c08acd",
   "metadata": {},
   "outputs": [],
   "source": [
    "ages=[10,20,35,50,28, 40, 55, 18, 16, 56,30, 25, 43, 18, 30, 28,14,24, 16,17,32,35,26,27,65,18,43,23,21,20,19,70  ]"
   ]
  },
  {
   "cell_type": "code",
   "execution_count": 7,
   "id": "e6ec6c2c",
   "metadata": {},
   "outputs": [],
   "source": [
    "import numpy as np"
   ]
  },
  {
   "cell_type": "code",
   "execution_count": 8,
   "id": "21ee6b0e",
   "metadata": {},
   "outputs": [
    {
     "data": {
      "text/plain": [
       "30.375"
      ]
     },
     "execution_count": 8,
     "metadata": {},
     "output_type": "execute_result"
    }
   ],
   "source": [
    "ages_mean= np.mean(ages)\n",
    "ages_mean"
   ]
  },
  {
   "cell_type": "code",
   "execution_count": 9,
   "id": "aa1643d8",
   "metadata": {},
   "outputs": [],
   "source": [
    "sample_size=10\n",
    "age_sample=np.random.choice(ages,sample_size)"
   ]
  },
  {
   "cell_type": "code",
   "execution_count": 10,
   "id": "8f15b0fa",
   "metadata": {},
   "outputs": [
    {
     "data": {
      "text/plain": [
       "array([35, 43, 16, 25, 30, 43, 28, 17, 20, 18])"
      ]
     },
     "execution_count": 10,
     "metadata": {},
     "output_type": "execute_result"
    }
   ],
   "source": [
    "age_sample"
   ]
  },
  {
   "cell_type": "code",
   "execution_count": 11,
   "id": "410d2694",
   "metadata": {},
   "outputs": [],
   "source": [
    "from scipy.stats import ttest_1samp"
   ]
  },
  {
   "cell_type": "code",
   "execution_count": 12,
   "id": "c04a8862",
   "metadata": {},
   "outputs": [
    {
     "data": {
      "text/plain": [
       "Ttest_1sampResult(statistic=-0.7741838812189678, pvalue=0.4586756905451853)"
      ]
     },
     "execution_count": 12,
     "metadata": {},
     "output_type": "execute_result"
    }
   ],
   "source": [
    "ttest_1samp(age_sample,30)"
   ]
  },
  {
   "cell_type": "code",
   "execution_count": null,
   "id": "032a7525",
   "metadata": {},
   "outputs": [],
   "source": []
  },
  {
   "cell_type": "code",
   "execution_count": null,
   "id": "cca28a55",
   "metadata": {},
   "outputs": [],
   "source": [
    "##########"
   ]
  },
  {
   "cell_type": "code",
   "execution_count": 16,
   "id": "2db66628",
   "metadata": {},
   "outputs": [],
   "source": [
    "import scipy.stats as stats\n",
    "np.random.seed(6)\n",
    "school_ages=stats.poisson.rvs(loc=18,mu=35,size=1500)\n",
    "calssA_ages=stats.poisson.rvs(loc=18,mu=30,size=60)"
   ]
  },
  {
   "cell_type": "code",
   "execution_count": 17,
   "id": "a2a63f8f",
   "metadata": {},
   "outputs": [
    {
     "data": {
      "text/plain": [
       "array([62, 59, 44, ..., 45, 52, 50])"
      ]
     },
     "execution_count": 17,
     "metadata": {},
     "output_type": "execute_result"
    }
   ],
   "source": [
    "school_ages"
   ]
  },
  {
   "cell_type": "code",
   "execution_count": 18,
   "id": "27528361",
   "metadata": {},
   "outputs": [
    {
     "data": {
      "text/plain": [
       "array([52, 46, 40, 40, 47, 50, 51, 45, 44, 52, 46, 53, 43, 44, 51, 50, 54,\n",
       "       42, 54, 45, 61, 53, 49, 46, 47, 41, 45, 51, 43, 45, 48, 50, 40, 52,\n",
       "       44, 55, 54, 40, 45, 46, 54, 42, 46, 35, 51, 51, 46, 48, 47, 35, 52,\n",
       "       52, 39, 44, 48, 40, 42, 46, 47, 45])"
      ]
     },
     "execution_count": 18,
     "metadata": {},
     "output_type": "execute_result"
    }
   ],
   "source": [
    "calssA_ages"
   ]
  },
  {
   "cell_type": "code",
   "execution_count": 19,
   "id": "14a24bca",
   "metadata": {},
   "outputs": [
    {
     "data": {
      "text/plain": [
       "46.9"
      ]
     },
     "execution_count": 19,
     "metadata": {},
     "output_type": "execute_result"
    }
   ],
   "source": [
    "calssA_ages.mean()"
   ]
  },
  {
   "cell_type": "code",
   "execution_count": 21,
   "id": "6b4aee53",
   "metadata": {},
   "outputs": [],
   "source": [
    "_,p_value=ttest_1samp(calssA_ages,school_ages.mean())"
   ]
  },
  {
   "cell_type": "code",
   "execution_count": 22,
   "id": "13ff5ae5",
   "metadata": {},
   "outputs": [
    {
     "name": "stdout",
     "output_type": "stream",
     "text": [
      "reject H0\n"
     ]
    }
   ],
   "source": [
    "if p_value < 0.05 :\n",
    "    print(\"reject H0\")\n",
    "else:\n",
    "    print(\"accpect H0\")"
   ]
  },
  {
   "cell_type": "code",
   "execution_count": null,
   "id": "a9f2f1f0",
   "metadata": {},
   "outputs": [],
   "source": []
  },
  {
   "cell_type": "code",
   "execution_count": null,
   "id": "196f6dc7",
   "metadata": {},
   "outputs": [],
   "source": []
  },
  {
   "cell_type": "code",
   "execution_count": null,
   "id": "1db68dd9",
   "metadata": {},
   "outputs": [],
   "source": []
  },
  {
   "cell_type": "code",
   "execution_count": null,
   "id": "53948984",
   "metadata": {},
   "outputs": [],
   "source": []
  },
  {
   "cell_type": "code",
   "execution_count": null,
   "id": "feceebe3",
   "metadata": {},
   "outputs": [],
   "source": []
  },
  {
   "cell_type": "code",
   "execution_count": null,
   "id": "a64bc06f",
   "metadata": {},
   "outputs": [],
   "source": []
  },
  {
   "cell_type": "code",
   "execution_count": null,
   "id": "0689818a",
   "metadata": {},
   "outputs": [],
   "source": []
  },
  {
   "cell_type": "code",
   "execution_count": null,
   "id": "9e85a125",
   "metadata": {},
   "outputs": [],
   "source": []
  },
  {
   "cell_type": "code",
   "execution_count": null,
   "id": "7a18305d",
   "metadata": {},
   "outputs": [],
   "source": []
  }
 ],
 "metadata": {
  "kernelspec": {
   "display_name": "Python 3 (ipykernel)",
   "language": "python",
   "name": "python3"
  },
  "language_info": {
   "codemirror_mode": {
    "name": "ipython",
    "version": 3
   },
   "file_extension": ".py",
   "mimetype": "text/x-python",
   "name": "python",
   "nbconvert_exporter": "python",
   "pygments_lexer": "ipython3",
   "version": "3.8.12"
  }
 },
 "nbformat": 4,
 "nbformat_minor": 5
}
